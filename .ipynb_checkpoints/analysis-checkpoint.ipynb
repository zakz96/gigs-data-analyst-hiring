{
 "cells": [
  {
   "cell_type": "markdown",
   "metadata": {},
   "source": [
    "# Gigs Senior Data Analyst Challenge\n",
    "\n",
    "Welcome to the Gigs data analyst take-home challenge! This notebook will help you get started with analyzing our connectivity usage data.\n",
    "\n",
    "## About the Data\n",
    "\n",
    "You'll be working with three main datasets:\n",
    "- **Usage Data**: Detailed usage per subscription period (~100K+ records)\n",
    "- **Plan Events**: Plan configuration and pricing history\n",
    "- **Projects**: Project metadata\n",
    "\n",
    "## Setup Instructions\n",
    "\n",
    "Run the cells below to set up your environment and load the data into DuckDB."
   ]
  },
  {
   "cell_type": "code",
   "execution_count": null,
   "metadata": {},
   "outputs": [],
   "source": [
    "# Import required libraries\n",
    "import duckdb\n",
    "import pandas as pd\n",
    "from datetime import datetime, timedelta\n",
    "\n",
    "print(\"✅ Libraries imported successfully!\")"
   ]
  },
  {
   "cell_type": "code",
   "execution_count": null,
   "metadata": {},
   "outputs": [],
   "source": [
    "# Load JupySQL extension and configure\n",
    "%load_ext sql\n",
    "\n",
    "# Configure JupySQL for better output\n",
    "%config SqlMagic.autopandas = True\n",
    "%config SqlMagic.feedback = False\n",
    "%config SqlMagic.displaycon = False\n",
    "\n",
    "print(\"✅ JupySQL configured!\")"
   ]
  },
  {
   "cell_type": "code",
   "execution_count": null,
   "metadata": {},
   "outputs": [],
   "source": [
    "# Connect to DuckDB\n",
    "conn = duckdb.connect('gigs-analytics.db')\n",
    "%sql conn --alias duckdb\n",
    "\n",
    "print(\"✅ Connected to DuckDB database: gigs-analytics.db\")"
   ]
  },
  {
   "cell_type": "code",
   "execution_count": null,
   "metadata": {},
   "outputs": [],
   "source": [
    "%%sql\n",
    "-- Load data into DuckDB tables\n",
    "CREATE OR REPLACE TABLE usage_data AS \n",
    "SELECT * FROM 'data/usage_by_subscription_period.csv';\n",
    "\n",
    "CREATE OR REPLACE TABLE plan_events AS \n",
    "SELECT * FROM 'data/plan_change_events.csv';\n",
    "\n",
    "CREATE OR REPLACE TABLE projects AS \n",
    "SELECT * FROM 'data/projects.csv';"
   ]
  },
  {
   "cell_type": "code",
   "execution_count": null,
   "metadata": {},
   "outputs": [],
   "source": [
    "%%sql\n",
    "-- Verify data loading\n",
    "select \n",
    "  'usage_data' as table_name, \n",
    "  count(*) as row_count,\n",
    "  count(distinct subscription_id) as unique_subscriptions\n",
    "from usage_data\n",
    "union all\n",
    "select \n",
    "  'plan_events' as table_name, \n",
    "  count(*) as row_count,\n",
    "  count(distinct plan_id) as unique_plans\n",
    "from plan_events\n",
    "union all\n",
    "select \n",
    "  'projects' as table_name, \n",
    "  count(*) as row_count,\n",
    "  count(distinct project_id__hashed) as unique_projects\n",
    "from projects;"
   ]
  },
  {
   "cell_type": "markdown",
   "metadata": {},
   "source": [
    "## Your Analysis Starts Here!\n",
    "\n",
    "Now you have everything set up. Use the cells below to start your analysis.\n",
    "\n",
    "### Tips:\n",
    "- Use `%%sql` for multi-line SQL queries\n",
    "- Use `%sql variable_name <<` to store results in a Python variable\n",
    "- Combine SQL with Python/Pandas for advanced analysis\n",
    "- Feel free to use any visualisation library you feel comfortable with"
   ]
  }
 ],
 "metadata": {
  "kernelspec": {
   "display_name": "Python 3 (ipykernel)",
   "language": "python",
   "name": "python3"
  },
  "language_info": {
   "codemirror_mode": {
    "name": "ipython",
    "version": 3
   },
   "file_extension": ".py",
   "mimetype": "text/x-python",
   "name": "python",
   "nbconvert_exporter": "python",
   "pygments_lexer": "ipython3",
   "version": "3.9.6"
  }
 },
 "nbformat": 4,
 "nbformat_minor": 4
}
